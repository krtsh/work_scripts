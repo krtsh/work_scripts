{
 "cells": [
  {
   "cell_type": "code",
   "execution_count": 1,
   "metadata": {
    "collapsed": false,
    "pycharm": {
     "name": "#%%\n"
    }
   },
   "outputs": [],
   "source": [
    "import config as cfg\n",
    "import requests\n",
    "import json\n",
    "import pandas as pd\n",
    "from datetime import date\n",
    "from datetime import timedelta\n",
    "from datetime import datetime\n",
    "from oauth2client.service_account import ServiceAccountCredentials\n",
    "import gspread\n",
    "import gspread_pandas as gp"
   ]
  },
  {
   "cell_type": "code",
   "execution_count": 2,
   "metadata": {
    "collapsed": false,
    "pycharm": {
     "name": "#%%\n"
    }
   },
   "outputs": [],
   "source": [
    "class DataProcessing:\n",
    "    @staticmethod\n",
    "    def parse_data(topic_id, apikey, start_date, tags=\"\", exclude_tags=\"\", delta=2, size=1000):\n",
    "        start_date = date.fromisoformat(start_date)\n",
    "        temp_data = []\n",
    "        for i in range(delta):\n",
    "            skip_size = 0\n",
    "            print(start_date)\n",
    "            while True:\n",
    "                out = requests.get(\n",
    "                    f'https://api.youscan.io/api/external/topics/{topic_id}'\n",
    "                    f'/mentions?apiKey={apikey}'\n",
    "                    f'&from={date.isoformat(start_date)}'\n",
    "                    f'&to={date.isoformat(start_date)}'\n",
    "                    f'&processed=true'\n",
    "                    f'{tags}'\n",
    "                    f'{exclude_tags}'\n",
    "                    f'&skip={skip_size}'\n",
    "                    f'&size={size}')\n",
    "\n",
    "                if len(out.text) < 500:\n",
    "                    print(out.text)\n",
    "                    break\n",
    "                temp_data += json.loads(out.text)['mentions']\n",
    "                skip_size += 1000\n",
    "                print(len(temp_data))\n",
    "            start_date += timedelta(days=1)\n",
    "        return temp_data\n",
    "\n",
    "    @staticmethod\n",
    "    def region_labels(x):\n",
    "        if x in cfg.regions_dict['volga']:\n",
    "            return 'Волга'\n",
    "        elif x in cfg.regions_dict['volga_sever']:\n",
    "            return 'Волга-Север'\n",
    "        elif x in cfg.regions_dict['moskva']:\n",
    "            return 'Москва'\n",
    "        elif x in cfg.regions_dict['severniy_kavkaz']:\n",
    "            return 'Северный Кавказ'\n",
    "        elif x in cfg.regions_dict['severo_zapad']:\n",
    "            return 'Северо-Запад'\n",
    "        elif x in cfg.regions_dict['sibir']:\n",
    "            return 'Сибирь'\n",
    "        elif x in cfg.regions_dict['ural']:\n",
    "            return 'Урал'\n",
    "        elif x in cfg.regions_dict['centr']:\n",
    "            return 'Центр'\n",
    "        elif x in cfg.regions_dict['yug']:\n",
    "            return 'Юг'\n",
    "        elif x in cfg.regions_dict['yuzhniy_ural']:\n",
    "            return 'Южный Урал'\n",
    "        else:\n",
    "            pass\n",
    "\n",
    "\n",
    "    def dataframe_processing(self, dataframe, hr=False):\n",
    "        # labels for hr report\n",
    "        if hr:\n",
    "            dataframe['Macro Region'] = dataframe['region'].apply(self.region_labels)\n",
    "        # del last spaces\n",
    "        dataframe['tags'] = dataframe.tags.apply(lambda x: [i.strip(' ') for i in x])\n",
    "        # datetime\n",
    "        dataframe['published'] = dataframe.published.apply(lambda x: (datetime.strptime(x.split('+')[0].split('.')[0], \"%Y-%m-%dT%H:%M:%S\")+ timedelta(hours=3)).strftime(\"%Y-%m-%d\"))\n",
    "        # find and split tags\n",
    "        frame_columns = ['tag_' + str(x) for x in range(dataframe.tags.apply(lambda x: len(x)).max())]\n",
    "        tags_df = pd.DataFrame(dataframe.tags.to_list(), columns=frame_columns)\n",
    "        dataframe = pd.concat([dataframe, tags_df], axis=1)\n",
    "        dataframe.rename(columns=cfg.new_columns, inplace=True)\n",
    "        return dataframe"
   ]
  },
  {
   "cell_type": "code",
   "execution_count": 122,
   "metadata": {
    "collapsed": false,
    "pycharm": {
     "name": "#%%\n"
    }
   },
   "outputs": [
    {
     "name": "stdout",
     "output_type": "stream",
     "text": [
      "start  \n"
     ]
    }
   ],
   "source": [
    "class Sheets:\n",
    "    c = ''\n",
    "    gc = ''\n",
    "    print('start', c, gc)\n",
    "    def connect(self, directory, file):\n",
    "        self.c = gp.conf.get_config(conf_dir=directory, file_name=file)\n",
    "        scope = ['https://spreadsheets.google.com/feeds', 'https://www.googleapis.com/auth/drive']\n",
    "        credentials = ServiceAccountCredentials.from_json_keyfile_name('google_secret.json', scope)\n",
    "        self.gc = gspread.authorize(credentials)\n",
    "        print(self.c, self.gc)\n",
    "    def upload_to_sheet(self,  spread_name, sheet_name, dataframe):\n",
    "        print('upload', self.c, self.gc)\n",
    "        # clear old data\n",
    "        sht = self.gc.open(spread_name)\n",
    "        sht.values_clear(f\"{sheet_name}!A1:X100000\")\n",
    "        print(f\"{sheet_name} clear data\")\n",
    "        # write new data\n",
    "        gp.Spread(spread_name, config=self.c).df_to_sheet(dataframe,\n",
    "                                                          sheet=sheet_name,\n",
    "                                                          start='A1',\n",
    "                                                          index=False,\n",
    "                                                          replace=False)\n",
    "        print(f\"{sheet_name} write data\")"
   ]
  },
  {
   "cell_type": "code",
   "execution_count": 4,
   "metadata": {
    "collapsed": false,
    "pycharm": {
     "name": "#%%\n"
    }
   },
   "outputs": [
    {
     "name": "stdout",
     "output_type": "stream",
     "text": [
      "2022-01-31\n",
      "1000\n",
      "1409\n",
      "{\"total\":1409,\"lastSeq\":11496200,\"mentions\":[]}\n",
      "2022-02-01\n",
      "2409\n",
      "2730\n",
      "{\"total\":1321,\"lastSeq\":11496200,\"mentions\":[]}\n"
     ]
    }
   ],
   "source": [
    "d = DataProcessing.parse_data(cfg.pyaterochka_id, cfg.key, cfg.start_date, cfg.pyaterochka_exclude)"
   ]
  },
  {
   "cell_type": "code",
   "execution_count": 26,
   "metadata": {
    "collapsed": false,
    "pycharm": {
     "name": "#%%\n"
    }
   },
   "outputs": [],
   "source": [
    "d1 = DataProcessing()"
   ]
  },
  {
   "cell_type": "code",
   "execution_count": 44,
   "metadata": {
    "collapsed": false,
    "pycharm": {
     "name": "#%%\n"
    }
   },
   "outputs": [],
   "source": [
    "d2 = d1.dataframe_processing(pd.json_normalize(d)[cfg.columns])"
   ]
  },
  {
   "cell_type": "code",
   "execution_count": 40,
   "outputs": [],
   "source": [
    "x=Sheets()"
   ],
   "metadata": {
    "collapsed": false,
    "pycharm": {
     "name": "#%%\n"
    }
   }
  },
  {
   "cell_type": "code",
   "execution_count": 41,
   "outputs": [],
   "source": [
    "x.connect('./', 'google_secret.json')"
   ],
   "metadata": {
    "collapsed": false,
    "pycharm": {
     "name": "#%%\n"
    }
   }
  },
  {
   "cell_type": "code",
   "execution_count": 45,
   "metadata": {
    "collapsed": false,
    "pycharm": {
     "name": "#%%\n"
    }
   },
   "outputs": [
    {
     "name": "stdout",
     "output_type": "stream",
     "text": [
      "test clear data\n",
      "test write data\n"
     ]
    }
   ],
   "source": [
    "x.upload_to_sheet('ALL Еженедельный Рабочий файл х5', 'test', d2)"
   ]
  },
  {
   "cell_type": "code",
   "execution_count": 123,
   "outputs": [],
   "source": [
    "worker = DataProcessing()\n",
    "loader = Sheets()\n",
    "#\n",
    "# pyat = worker.parse_data(cfg.pyaterochka_id, cfg.key,cfg.start_date, cfg.pyaterochka_exclude)\n",
    "# pyat = worker.dataframe_processing(pd.json_normalize(pyat)[cfg.columns])\n",
    "#\n",
    "# connection = loader.connect('./', 'google_secret.json')\n"
   ],
   "metadata": {
    "collapsed": false,
    "pycharm": {
     "name": "#%%\n"
    }
   }
  },
  {
   "cell_type": "code",
   "execution_count": 16,
   "outputs": [],
   "source": [
    "configs = {\n",
    "    'carousel': {\n",
    "        'car': [cfg.car_id, \"\", cfg.car_excl],\n",
    "        'car_x5': [cfg.x5_id, cfg.car_t, cfg.x5_excl_m]\n",
    "    },\n",
    "    'pyaterochka_delivery': {\n",
    "        'pyat_del': [cfg.pyat_id, cfg.pyat_del_t, '']\n",
    "    },\n",
    "    'pyaterochka': {\n",
    "        'pyat': [cfg.pyat_id, \"\", cfg.pyat_excl],\n",
    "        'pyat_x5': [cfg.x5_id, cfg.pyat_t, cfg.x5_excl_m]\n",
    "    },\n",
    "    'perekrestok_fast': {\n",
    "        'pyat_del': [cfg.per_id, cfg.per_fast_t, \"\"]\n",
    "    },\n",
    "    'perekrestok_ru': {\n",
    "        'pyat_del': [cfg.per_id, cfg.per_ru_t, \"\"]\n",
    "    },\n",
    "    'chizhik': {\n",
    "        'pyat': [cfg.chizh_id, \"\", \"\"],\n",
    "        'pyat_x5': [cfg.x5_id, cfg.chizh_t, cfg.x5_excl_m]\n",
    "    },\n",
    "    'x5': {\n",
    "        'pyat_del': [cfg.x5_id, \"\", cfg.x5_excl]\n",
    "    },\n",
    "    'perekrestok': {\n",
    "        'pyat': [cfg.per_id, \"\", cfg.per_excl],\n",
    "        'pyat_x5': [cfg.x5_id, cfg.per_t, cfg.x5_excl_m]\n",
    "    },\n",
    "    'okolo': {\n",
    "        'ok_x5': [cfg.x5_id, cfg.okolo, \"\"],\n",
    "        'ok_per': [cfg.per_id, cfg.okolo, \"\"],\n",
    "        'ok_pyat': [cfg.pyat_id, cfg.okolo, \"\"],\n",
    "        'ok_car': [cfg.car_id, cfg.okolo, \"\"]\n",
    "    },\n",
    "    'omni': {\n",
    "        'om_x5': [cfg.x5_id, cfg.omni, \"\"],\n",
    "        'om_per': [cfg.per_id, cfg.omni, \"\"],\n",
    "        'om_pyat': [cfg.pyat_id, cfg.omni5, \"\"],\n",
    "        'om_car': [cfg.car_id, cfg.omni, \"\"]\n",
    "    },\n",
    "    'logistics': {\n",
    "        'log_x5': [cfg.x5_id, cfg.log_15, \"\"],\n",
    "        'log_per': [cfg.per_id, cfg.log_15, \"\"],\n",
    "        'log_pyat1': [cfg.pyat_id, cfg.log_1, \"\"],\n",
    "        'log_pyat15': [cfg.pyat_id, cfg.log_15, \"\"],\n",
    "        'log_car': [cfg.car_id, cfg.log_15, \"\"]\n",
    "    },\n",
    "    'hr_x5': {\n",
    "        'hr': [cfg.x5_id, cfg.hr, \"\"]\n",
    "    },\n",
    "}"
   ],
   "metadata": {
    "collapsed": false,
    "pycharm": {
     "name": "#%%\n"
    }
   }
  },
  {
   "cell_type": "code",
   "execution_count": 17,
   "outputs": [
    {
     "name": "stdout",
     "output_type": "stream",
     "text": [
      "car\n",
      "['172904', '', '&excludeTags=15_Логистика&excludeTags=19.10_Около&excludeTags=14_Omni']\n",
      "------------------------------------\n",
      "car_x5\n",
      "['174566', '&tags=40 Карусель', '&excludeTags=15_Логистика&excludeTags=19.10_Около&excludeTags=14_Omni']\n",
      "------------------------------------\n",
      "pyat_del\n",
      "['160358', '&tags=18.11_ДоставкаПятерочка', '']\n",
      "------------------------------------\n",
      "pyat\n",
      "['160358', '', '&excludeTags=18.11_ДоставкаПятерочка&excludeTags=15_Логистика&excludeTags=001_Логистика &excludeTags=19.10_Около&excludeTags=001_Omni']\n",
      "------------------------------------\n",
      "pyat_x5\n",
      "['174566', '&tags=40 Пятерочка', '&excludeTags=15_Логистика&excludeTags=19.10_Около&excludeTags=14_Omni']\n",
      "------------------------------------\n",
      "pyat_del\n",
      "['160394', '&tags=18.12_Перекресток быстро', '']\n",
      "------------------------------------\n",
      "pyat_del\n",
      "['160394', '&tags=18.11_Впрок', '']\n",
      "------------------------------------\n",
      "pyat\n",
      "['233371', '', '']\n",
      "------------------------------------\n",
      "pyat_x5\n",
      "['174566', '&tags=40_Чижик', '&excludeTags=15_Логистика&excludeTags=19.10_Около&excludeTags=14_Omni']\n",
      "------------------------------------\n",
      "pyat_del\n",
      "['174566', '', '&excludeTags=15_Логистика&excludeTags=19.10_Около&excludeTags=14_Omni&excludeTags=40 Карусель&excludeTags=40 Перекресток&excludeTags=40 Пятерочка&excludeTags=40_Чижик ']\n",
      "------------------------------------\n",
      "pyat\n",
      "['160394', '', '&excludeTags=18.11_Впрок&excludeTags=18.12_Перекресток быстро&excludeTags=15_Логистика&excludeTags=19.10_Около&excludeTags=14_Omni']\n",
      "------------------------------------\n",
      "pyat_x5\n",
      "['174566', '&tags=40 Перекресток', '&excludeTags=15_Логистика&excludeTags=19.10_Около&excludeTags=14_Omni']\n",
      "------------------------------------\n",
      "ok_x5\n",
      "['174566', '&tags=19.10_Около', '']\n",
      "------------------------------------\n",
      "ok_per\n",
      "['160394', '&tags=19.10_Около', '']\n",
      "------------------------------------\n",
      "ok_pyat\n",
      "['160358', '&tags=19.10_Около', '']\n",
      "------------------------------------\n",
      "ok_car\n",
      "['172904', '&tags=19.10_Около', '']\n",
      "------------------------------------\n",
      "om_x5\n",
      "['174566', '&tags=14_Omni', '']\n",
      "------------------------------------\n",
      "om_per\n",
      "['160394', '&tags=14_Omni', '']\n",
      "------------------------------------\n",
      "om_pyat\n",
      "['160358', '&tags=001_Omni', '']\n",
      "------------------------------------\n",
      "om_car\n",
      "['172904', '&tags=14_Omni', '']\n",
      "------------------------------------\n",
      "log_x5\n",
      "['174566', '&tags=15_Логистика', '']\n",
      "------------------------------------\n",
      "log_per\n",
      "['160394', '&tags=15_Логистика', '']\n",
      "------------------------------------\n",
      "log_pyat1\n",
      "['160358', '&tags=001_Логистика', '']\n",
      "------------------------------------\n",
      "log_pyat15\n",
      "['160358', '&tags=15_Логистика', '']\n",
      "------------------------------------\n",
      "log_car\n",
      "['172904', '&tags=15_Логистика', '']\n",
      "------------------------------------\n",
      "hr\n",
      "['174566', '&tags=001_HR', '']\n",
      "------------------------------------\n"
     ]
    }
   ],
   "source": [
    "for key, value in x.items():\n",
    "    for name, data in value.items():\n",
    "        print(name)\n",
    "        print(data)\n",
    "        print('------------------------------------')"
   ],
   "metadata": {
    "collapsed": false,
    "pycharm": {
     "name": "#%%\n"
    }
   }
  }
 ],
 "metadata": {
  "kernelspec": {
   "display_name": "Python 3",
   "language": "python",
   "name": "python3"
  },
  "language_info": {
   "codemirror_mode": {
    "name": "ipython",
    "version": 2
   },
   "file_extension": ".py",
   "mimetype": "text/x-python",
   "name": "python",
   "nbconvert_exporter": "python",
   "pygments_lexer": "ipython2",
   "version": "3.10.0"
  }
 },
 "nbformat": 4,
 "nbformat_minor": 0
}