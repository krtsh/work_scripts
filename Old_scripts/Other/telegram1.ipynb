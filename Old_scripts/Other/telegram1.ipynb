{
  "cells": [
    {
      "cell_type": "code",
      "execution_count": null,
      "metadata": {},
      "outputs": [],
      "source": [
        "!pip install gspread"
      ]
    },
    {
      "cell_type": "code",
      "execution_count": null,
      "metadata": {
        "colab": {
          "base_uri": "https://localhost:8080/"
        },
        "id": "fPulAKQJtevh",
        "outputId": "6f8feb80-8733-4064-eb60-f7ff5077bdb8"
      },
      "outputs": [],
      "source": [
        "!pip install gspread_pandas"
      ]
    },
    {
      "cell_type": "code",
      "execution_count": null,
      "metadata": {},
      "outputs": [],
      "source": [
        "!pip install beautifulsoup4"
      ]
    },
    {
      "cell_type": "code",
      "execution_count": null,
      "metadata": {
        "colab": {
          "base_uri": "https://localhost:8080/"
        },
        "id": "FaQweuYA1g6B",
        "outputId": "53b4ae6b-5e2f-43c2-a25f-2f4468a16dff"
      },
      "outputs": [],
      "source": [
        "!pip install oauth2client"
      ]
    },
    {
      "cell_type": "code",
      "execution_count": null,
      "metadata": {
        "colab": {
          "base_uri": "https://localhost:8080/"
        },
        "id": "nchPhuWA1g3e",
        "outputId": "641dcf7f-fd28-4eb3-9e06-0d0e474c2dcc"
      },
      "outputs": [],
      "source": [
        "!pip install openpyxl"
      ]
    },
    {
      "cell_type": "code",
      "execution_count": null,
      "metadata": {
        "id": "OVsDhx071g0_"
      },
      "outputs": [],
      "source": [
        "import pandas as pd\n",
        "import numpy as np\n",
        "from gspread_pandas import Spread, Client\n",
        "import gspread_pandas\n",
        "import gspread\n",
        "from bs4 import BeautifulSoup\n",
        "import os\n",
        "import sys\n",
        "import re\n",
        "from oauth2client.service_account import ServiceAccountCredentials"
      ]
    },
    {
      "cell_type": "code",
      "execution_count": null,
      "metadata": {
        "id": "IX6vdJ4f1gyK"
      },
      "outputs": [],
      "source": [
        "scope = ['https://spreadsheets.google.com/feeds', 'https://www.googleapis.com/auth/drive']\n",
        "credentials = ServiceAccountCredentials.from_json_keyfile_name('google_secret.json', scope)\n",
        "gc = gspread.authorize(credentials)"
      ]
    },
    {
      "cell_type": "code",
      "execution_count": null,
      "metadata": {
        "id": "laOiDXHR1gvf"
      },
      "outputs": [],
      "source": [
        "sys.path.append('./')\n",
        "c = gspread_pandas.conf.get_config(conf_dir='./', file_name='google_secret.json')"
      ]
    },
    {
      "cell_type": "code",
      "execution_count": null,
      "metadata": {
        "id": "fsFd-6w_1gsN"
      },
      "outputs": [],
      "source": [
        "def text_processing(text):\n",
        "    return BeautifulSoup(text.replace('&#xA;', ' '), \"html.parser\") \\\n",
        "        .get_text(strip=False).replace('\\r', ' ').replace('\\n',' ')"
      ]
    },
    {
      "cell_type": "code",
      "execution_count": null,
      "metadata": {
        "id": "ux1yvnwG1glL"
      },
      "outputs": [],
      "source": [
        "def find_tags(tags, data, col_name):\n",
        "    data[col_name] = ''\n",
        "    for col in data.columns:\n",
        "        if col.startswith(tags):\n",
        "            data[col_name] += data[col].fillna(' ') + ','\n",
        "    data[col_name] = data[col_name].str.replace(' ,', '').str.strip(',')\n",
        "    # data[col_name] = data[col_name].apply(lambda x: np.nan if x == '' else x)"
      ]
    },
    {
      "cell_type": "code",
      "execution_count": null,
      "metadata": {
        "colab": {
          "base_uri": "https://localhost:8080/"
        },
        "id": "UAt5OZ721sj8",
        "outputId": "e198e241-8fb4-4a35-aa0b-5372b59faf12"
      },
      "outputs": [],
      "source": [
        "for file in os.walk(os.getcwd()):\n",
        "    data_files = [f for f in file[2] if f.startswith('YouScan_Mentions_')]\n",
        "    break\n",
        "data_files"
      ]
    },
    {
      "cell_type": "code",
      "execution_count": null,
      "metadata": {
        "colab": {
          "base_uri": "https://localhost:8080/",
          "height": 518
        },
        "id": "gkWOl5It1sXA",
        "outputId": "b3a6d965-953b-47da-c7ee-1f0205fa6bf5"
      },
      "outputs": [],
      "source": [
        "for data_file in data_files:\n",
        "    in_df = pd.read_excel(data_file, engine='openpyxl')\n",
        "    need_tags = tuple(col for col in in_df.columns if re.match('\\d', col, flags=0) or re.match('z', col, flags=0))\n",
        "    \n",
        "    in_df['Сумма всех реакций'] = (in_df['Сумма всех реакций'].fillna(0) +\n",
        "                                in_df['Репосты'].fillna(0) +\n",
        "                                in_df['Комментарии'].fillna(0))\n",
        "    \n",
        "    in_df['Дайджест текста'] = (in_df['Дайджест текста'].fillna('')\n",
        "                                            .apply(text_processing))\n",
        "    in_df['Автор'] = (in_df['Автор'].fillna('')\n",
        "                      .apply(text_processing))\n",
        "    in_df['Место публикации'] = (in_df['Место публикации'].fillna('')\n",
        "                                             .apply(text_processing))\n",
        "    \n",
        "    find_tags(need_tags, in_df, 'all_tags')\n",
        "    \n",
        "    out_df = in_df[['URL', 'Дайджест текста', 'Источник', 'Подписчики', \n",
        "                'Город', 'Регион', 'Автор', 'Место публикации', 'Профиль', \n",
        "                'Подписчики места публикации', 'Профиль места публикации', \n",
        "                'Тональность', 'Тип поста', 'Сумма всех реакций', 'Дата', 'all_tags']]\n",
        "    \n",
        "    frame_columns = ['tag_' + str(x) for x in range(out_df.all_tags.apply(lambda x: len(x.split(','))).max())]\n",
        "    tags_df = pd.DataFrame(out_df.all_tags.str.split(',').to_list(), columns=frame_columns)\n",
        "    out_df = pd.concat([out_df, tags_df], axis=1)\n",
        "    \n",
        "    out_df[['Подписчики', \n",
        "            'Подписчики места публикации', \n",
        "            'Сумма всех реакций']] = out_df[['Подписчики', \n",
        "                                             'Подписчики места публикации', \n",
        "                                             'Сумма всех реакций']].fillna(0).astype(int)"
      ]
    },
    {
      "cell_type": "code",
      "execution_count": null,
      "metadata": {
        "id": "-JAEYk-61sUm"
      },
      "outputs": [],
      "source": [
        "sht = gc.open(\"telegram\")\n",
        "sht.values_clear(\"Data!A1:X10000\")\n",
        "spread = Spread('telegram', config=c)\n",
        "spread.df_to_sheet(out_df, sheet='Data', start='A1', index=False)\n",
        "print(f'Upload {data_file}')"
      ]
    }
  ],
  "metadata": {
    "colab": {
      "collapsed_sections": [],
      "name": "telegram1.ipynb",
      "provenance": []
    },
    "kernelspec": {
      "display_name": "Python 3",
      "name": "python3"
    },
    "language_info": {
      "name": "python"
    }
  },
  "nbformat": 4,
  "nbformat_minor": 0
}
