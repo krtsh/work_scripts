{
 "cells": [
  {
   "cell_type": "code",
   "execution_count": 1,
   "metadata": {},
   "outputs": [],
   "source": [
    "import sys\n",
    "sys.path.append('C:\\My_files\\Programming\\work')\n",
    "import pandas as pd\n",
    "from processing import YouScanProcessing as ysp\n",
    "import numpy as np\n",
    "import re\n",
    "from gspread_pandas import Spread, Client\n",
    "import gspread_pandas\n",
    "import gspread\n",
    "from oauth2client.service_account import ServiceAccountCredentials"
   ]
  },
  {
   "cell_type": "code",
   "execution_count": 2,
   "metadata": {},
   "outputs": [],
   "source": [
    "scope = ['https://spreadsheets.google.com/feeds', 'https://www.googleapis.com/auth/drive']\n",
    "credentials = ServiceAccountCredentials.from_json_keyfile_name('C:/My_files/Programming/work/google_secret.json', scope)\n",
    "gc = gspread.authorize(credentials)"
   ]
  },
  {
   "cell_type": "code",
   "execution_count": 3,
   "metadata": {},
   "outputs": [],
   "source": [
    "def del_tag_num(name):\n",
    "    return re.sub('\\d{1}_', '', name)"
   ]
  },
  {
   "cell_type": "code",
   "execution_count": 4,
   "metadata": {},
   "outputs": [],
   "source": [
    "def sort_dates(data):\n",
    "    data.index = pd.to_datetime(data.index, dayfirst=True)\n",
    "    data.sort_index(inplace=True)\n",
    "    data.index = data.index.strftime('%d.%m.%Y')"
   ]
  },
  {
   "cell_type": "code",
   "execution_count": 5,
   "metadata": {},
   "outputs": [],
   "source": [
    "sht = gc.open('geely_atlas_pro')"
   ]
  },
  {
   "cell_type": "code",
   "execution_count": 6,
   "metadata": {},
   "outputs": [],
   "source": [
    "w = [int(i) for i in sht.get_worksheet(0).acell('D44').value.split(' ')]\n",
    "m = [int(i) for i in sht.get_worksheet(0).acell('H26').value.split(' ')]\n",
    "# m1 = [int(i) for i in sht.get_worksheet(0).acell('H22').value.split(' ')]"
   ]
  },
  {
   "cell_type": "code",
   "execution_count": 7,
   "metadata": {},
   "outputs": [
    {
     "data": {
      "text/plain": [
       "([601, 382], [164, 50])"
      ]
     },
     "execution_count": 7,
     "metadata": {},
     "output_type": "execute_result"
    }
   ],
   "source": [
    "m,w"
   ]
  },
  {
   "cell_type": "code",
   "execution_count": 57,
   "metadata": {},
   "outputs": [
    {
     "data": {
      "text/plain": [
       "{'spreadsheetId': '149Qd6JED8E4LCZoU7a5PfQ8A2ffPogz--fEAHjTcNQk',\n",
       " 'updatedRange': 'Data!E27',\n",
       " 'updatedRows': 1,\n",
       " 'updatedColumns': 1,\n",
       " 'updatedCells': 1}"
      ]
     },
     "execution_count": 57,
     "metadata": {},
     "output_type": "execute_result"
    }
   ],
   "source": [
    "sht.get_worksheet(0).update('E27', f'{w[0]} {w[1]}')"
   ]
  },
  {
   "cell_type": "code",
   "execution_count": 8,
   "metadata": {},
   "outputs": [],
   "source": [
    "df = pd.read_excel('atlas_pro24.xlsx')"
   ]
  },
  {
   "cell_type": "code",
   "execution_count": 9,
   "metadata": {},
   "outputs": [],
   "source": [
    "df['week'] = df['Дата'].apply(lambda x: pd.to_datetime(x, dayfirst=True) \\\n",
    "                       .isocalendar().week).to_list()\n",
    "df['month'] = df['Дата'].apply(lambda x: pd.to_datetime(x, dayfirst=True) \\\n",
    "                        .month).to_list()"
   ]
  },
  {
   "cell_type": "markdown",
   "metadata": {},
   "source": [
    "# SLIDE 1"
   ]
  },
  {
   "cell_type": "code",
   "execution_count": 11,
   "metadata": {},
   "outputs": [],
   "source": [
    "all_time = [int(sht.get_worksheet(0).acell('J16').value),\n",
    "int(sht.get_worksheet(0).acell('K16').value),\n",
    "int(sht.get_worksheet(0).acell('L16').value),\n",
    "int(sht.get_worksheet(0).acell('M16').value)]"
   ]
  },
  {
   "cell_type": "code",
   "execution_count": 12,
   "metadata": {},
   "outputs": [
    {
     "data": {
      "text/plain": [
       "[17062, 339987, 226996166, 54860596]"
      ]
     },
     "execution_count": 12,
     "metadata": {},
     "output_type": "execute_result"
    }
   ],
   "source": [
    "all_time"
   ]
  },
  {
   "cell_type": "code",
   "execution_count": 13,
   "metadata": {},
   "outputs": [
    {
     "data": {
      "text/html": [
       "<div>\n",
       "<style scoped>\n",
       "    .dataframe tbody tr th:only-of-type {\n",
       "        vertical-align: middle;\n",
       "    }\n",
       "\n",
       "    .dataframe tbody tr th {\n",
       "        vertical-align: top;\n",
       "    }\n",
       "\n",
       "    .dataframe thead th {\n",
       "        text-align: right;\n",
       "    }\n",
       "</style>\n",
       "<table border=\"1\" class=\"dataframe\">\n",
       "  <thead>\n",
       "    <tr style=\"text-align: right;\">\n",
       "      <th></th>\n",
       "      <th>Posts</th>\n",
       "      <th>Engagements</th>\n",
       "      <th>OTS_</th>\n",
       "      <th>OTS</th>\n",
       "    </tr>\n",
       "  </thead>\n",
       "  <tbody>\n",
       "    <tr>\n",
       "      <th>week</th>\n",
       "      <td>434</td>\n",
       "      <td>3848</td>\n",
       "      <td>16759139</td>\n",
       "      <td>2351119</td>\n",
       "    </tr>\n",
       "    <tr>\n",
       "      <th>week_R</th>\n",
       "      <td>434</td>\n",
       "      <td>3.8K</td>\n",
       "      <td>16.8M</td>\n",
       "      <td>2.4M</td>\n",
       "    </tr>\n",
       "    <tr>\n",
       "      <th>all_time</th>\n",
       "      <td>17496</td>\n",
       "      <td>343835</td>\n",
       "      <td>243755305</td>\n",
       "      <td>57211715</td>\n",
       "    </tr>\n",
       "    <tr>\n",
       "      <th>all_time_R</th>\n",
       "      <td>17.5K</td>\n",
       "      <td>343.8K</td>\n",
       "      <td>243.8M</td>\n",
       "      <td>57.2M</td>\n",
       "    </tr>\n",
       "  </tbody>\n",
       "</table>\n",
       "</div>"
      ],
      "text/plain": [
       "            Posts Engagements       OTS_       OTS\n",
       "week          434        3848   16759139   2351119\n",
       "week_R        434        3.8K      16.8M      2.4M\n",
       "all_time    17496      343835  243755305  57211715\n",
       "all_time_R  17.5K      343.8K     243.8M     57.2M"
      ]
     },
     "execution_count": 13,
     "metadata": {},
     "output_type": "execute_result"
    }
   ],
   "source": [
    "temp_dict = {\n",
    "    'Posts': df.shape[0],\n",
    "    'Engagements': df[['Репосты','Комментарии','Сумма всех реакций']].sum().sum(),\n",
    "    'OTS_': df.groupby('Профиль места публикации').agg({'Подписчики места публикации': 'mean'}).sum()[0],\n",
    "    'OTS': df.groupby('Профиль').agg({'Подписчики': 'mean'}).sum()[0]   \n",
    "}\n",
    "\n",
    "main = pd.DataFrame(temp_dict, index=['week']) \\\n",
    "         .transpose().astype(int)\n",
    "main['week_R'] = main.week.apply(ysp.rounding)\n",
    "main['all_time'] = all_time + main.week\n",
    "main['all_time_R'] = main.all_time.apply(ysp.rounding)\n",
    "\n",
    "main.transpose()"
   ]
  },
  {
   "cell_type": "markdown",
   "metadata": {},
   "source": [
    "# SLIDE 2"
   ]
  },
  {
   "cell_type": "code",
   "execution_count": 14,
   "metadata": {},
   "outputs": [],
   "source": [
    "count_week = df.groupby('week').agg({'Дата': 'count'}).rename(columns={'Дата': 'amount'})\n",
    "count_month = df.groupby('month').agg({'Дата': 'count'}).rename(columns={'Дата': 'amount'})"
   ]
  },
  {
   "cell_type": "code",
   "execution_count": 16,
   "metadata": {},
   "outputs": [
    {
     "data": {
      "text/html": [
       "<div>\n",
       "<style scoped>\n",
       "    .dataframe tbody tr th:only-of-type {\n",
       "        vertical-align: middle;\n",
       "    }\n",
       "\n",
       "    .dataframe tbody tr th {\n",
       "        vertical-align: top;\n",
       "    }\n",
       "\n",
       "    .dataframe thead th {\n",
       "        text-align: right;\n",
       "    }\n",
       "</style>\n",
       "<table border=\"1\" class=\"dataframe\">\n",
       "  <thead>\n",
       "    <tr style=\"text-align: right;\">\n",
       "      <th></th>\n",
       "      <th>amount</th>\n",
       "    </tr>\n",
       "    <tr>\n",
       "      <th>week</th>\n",
       "      <th></th>\n",
       "    </tr>\n",
       "  </thead>\n",
       "  <tbody>\n",
       "    <tr>\n",
       "      <th>51</th>\n",
       "      <td>130</td>\n",
       "    </tr>\n",
       "    <tr>\n",
       "      <th>52</th>\n",
       "      <td>304</td>\n",
       "    </tr>\n",
       "  </tbody>\n",
       "</table>\n",
       "</div>"
      ],
      "text/plain": [
       "      amount\n",
       "week        \n",
       "51       130\n",
       "52       304"
      ]
     },
     "execution_count": 16,
     "metadata": {},
     "output_type": "execute_result"
    }
   ],
   "source": [
    "count_week\n",
    "# count_month"
   ]
  },
  {
   "cell_type": "code",
   "execution_count": 17,
   "metadata": {},
   "outputs": [],
   "source": [
    "weeks = pd.concat([\n",
    "    df[(df['1_Отзыв'] == '1_Отзыв')].groupby('week').agg({'Дата': 'count'}).rename(columns={'Дата': 'reviews'}),\n",
    "    df[(df['1_Новость/Статья'] == '1_Новость/Статья')].groupby('week').agg({'Дата': 'count'}).rename(columns={'Дата': 'news'})], axis=1)\n",
    "weeks.loc[weeks.index[-2], 'reviews'] = weeks.loc[weeks.index[-2], 'reviews'] + w[0]\n",
    "weeks.loc[weeks.index[-2], 'news'] = weeks.loc[weeks.index[-2], 'news'] + w[1]\n",
    "weeks['reviews%'] = (weeks.reviews / (weeks.reviews + weeks.news)).round(3)\n",
    "weeks['news%'] = (weeks.news / (weeks.reviews + weeks.news)).round(3)"
   ]
  },
  {
   "cell_type": "code",
   "execution_count": 18,
   "metadata": {},
   "outputs": [
    {
     "data": {
      "text/html": [
       "<div>\n",
       "<style scoped>\n",
       "    .dataframe tbody tr th:only-of-type {\n",
       "        vertical-align: middle;\n",
       "    }\n",
       "\n",
       "    .dataframe tbody tr th {\n",
       "        vertical-align: top;\n",
       "    }\n",
       "\n",
       "    .dataframe thead th {\n",
       "        text-align: right;\n",
       "    }\n",
       "</style>\n",
       "<table border=\"1\" class=\"dataframe\">\n",
       "  <thead>\n",
       "    <tr style=\"text-align: right;\">\n",
       "      <th></th>\n",
       "      <th>reviews</th>\n",
       "      <th>news</th>\n",
       "      <th>reviews%</th>\n",
       "      <th>news%</th>\n",
       "    </tr>\n",
       "    <tr>\n",
       "      <th>week</th>\n",
       "      <th></th>\n",
       "      <th></th>\n",
       "      <th></th>\n",
       "      <th></th>\n",
       "    </tr>\n",
       "  </thead>\n",
       "  <tbody>\n",
       "    <tr>\n",
       "      <th>51</th>\n",
       "      <td>243</td>\n",
       "      <td>73</td>\n",
       "      <td>0.769</td>\n",
       "      <td>0.231</td>\n",
       "    </tr>\n",
       "    <tr>\n",
       "      <th>52</th>\n",
       "      <td>69</td>\n",
       "      <td>201</td>\n",
       "      <td>0.256</td>\n",
       "      <td>0.744</td>\n",
       "    </tr>\n",
       "  </tbody>\n",
       "</table>\n",
       "</div>"
      ],
      "text/plain": [
       "      reviews  news  reviews%  news%\n",
       "week                                \n",
       "51        243    73     0.769  0.231\n",
       "52         69   201     0.256  0.744"
      ]
     },
     "execution_count": 18,
     "metadata": {},
     "output_type": "execute_result"
    }
   ],
   "source": [
    "weeks"
   ]
  },
  {
   "cell_type": "code",
   "execution_count": 19,
   "metadata": {},
   "outputs": [],
   "source": [
    "monthes = pd.concat([\n",
    "    df[(df['1_Отзыв'] == '1_Отзыв')].groupby('month').agg({'Дата': 'count'}).rename(columns={'Дата': 'reviews'})+m[0],\n",
    "    df[(df['1_Новость/Статья'] == '1_Новость/Статья')].groupby('month').agg({'Дата': 'count'}).rename(columns={'Дата': 'news'})+m[1]\n",
    "], axis=1)\n",
    "monthes['reviews%'] = ((monthes.reviews) / (monthes.reviews + monthes.news)).round(3)\n",
    "monthes['news%'] = ((monthes.news) / (monthes.reviews + monthes.news)).round(3)"
   ]
  },
  {
   "cell_type": "code",
   "execution_count": 20,
   "metadata": {},
   "outputs": [
    {
     "data": {
      "text/html": [
       "<div>\n",
       "<style scoped>\n",
       "    .dataframe tbody tr th:only-of-type {\n",
       "        vertical-align: middle;\n",
       "    }\n",
       "\n",
       "    .dataframe tbody tr th {\n",
       "        vertical-align: top;\n",
       "    }\n",
       "\n",
       "    .dataframe thead th {\n",
       "        text-align: right;\n",
       "    }\n",
       "</style>\n",
       "<table border=\"1\" class=\"dataframe\">\n",
       "  <thead>\n",
       "    <tr style=\"text-align: right;\">\n",
       "      <th></th>\n",
       "      <th>reviews</th>\n",
       "      <th>news</th>\n",
       "      <th>reviews%</th>\n",
       "      <th>news%</th>\n",
       "    </tr>\n",
       "    <tr>\n",
       "      <th>month</th>\n",
       "      <th></th>\n",
       "      <th></th>\n",
       "      <th></th>\n",
       "      <th></th>\n",
       "    </tr>\n",
       "  </thead>\n",
       "  <tbody>\n",
       "    <tr>\n",
       "      <th>12</th>\n",
       "      <td>749</td>\n",
       "      <td>606</td>\n",
       "      <td>0.553</td>\n",
       "      <td>0.447</td>\n",
       "    </tr>\n",
       "  </tbody>\n",
       "</table>\n",
       "</div>"
      ],
      "text/plain": [
       "       reviews  news  reviews%  news%\n",
       "month                                \n",
       "12         749   606     0.553  0.447"
      ]
     },
     "execution_count": 20,
     "metadata": {},
     "output_type": "execute_result"
    }
   ],
   "source": [
    "monthes"
   ]
  },
  {
   "cell_type": "markdown",
   "metadata": {},
   "source": [
    "# SLIDE 3 sourse types"
   ]
  },
  {
   "cell_type": "code",
   "execution_count": 21,
   "metadata": {},
   "outputs": [
    {
     "data": {
      "text/html": [
       "<div>\n",
       "<style scoped>\n",
       "    .dataframe tbody tr th:only-of-type {\n",
       "        vertical-align: middle;\n",
       "    }\n",
       "\n",
       "    .dataframe tbody tr th {\n",
       "        vertical-align: top;\n",
       "    }\n",
       "\n",
       "    .dataframe thead th {\n",
       "        text-align: right;\n",
       "    }\n",
       "</style>\n",
       "<table border=\"1\" class=\"dataframe\">\n",
       "  <thead>\n",
       "    <tr style=\"text-align: right;\">\n",
       "      <th></th>\n",
       "      <th>count</th>\n",
       "    </tr>\n",
       "    <tr>\n",
       "      <th>Тип источника</th>\n",
       "      <th></th>\n",
       "    </tr>\n",
       "  </thead>\n",
       "  <tbody>\n",
       "    <tr>\n",
       "      <th>Блог</th>\n",
       "      <td>31</td>\n",
       "    </tr>\n",
       "    <tr>\n",
       "      <th>Мессенджеры</th>\n",
       "      <td>66</td>\n",
       "    </tr>\n",
       "    <tr>\n",
       "      <th>Отзывы</th>\n",
       "      <td>1</td>\n",
       "    </tr>\n",
       "    <tr>\n",
       "      <th>СМИ</th>\n",
       "      <td>29</td>\n",
       "    </tr>\n",
       "    <tr>\n",
       "      <th>Соц. сеть</th>\n",
       "      <td>300</td>\n",
       "    </tr>\n",
       "    <tr>\n",
       "      <th>Форум</th>\n",
       "      <td>7</td>\n",
       "    </tr>\n",
       "  </tbody>\n",
       "</table>\n",
       "</div>"
      ],
      "text/plain": [
       "               count\n",
       "Тип источника       \n",
       "Блог              31\n",
       "Мессенджеры       66\n",
       "Отзывы             1\n",
       "СМИ               29\n",
       "Соц. сеть        300\n",
       "Форум              7"
      ]
     },
     "execution_count": 21,
     "metadata": {},
     "output_type": "execute_result"
    }
   ],
   "source": [
    "source_types = df.groupby('Тип источника') \\\n",
    "             .agg({'Тип источника': 'count'}) \\\n",
    "             .rename(columns={'Тип источника':'count'})\n",
    "source_types"
   ]
  },
  {
   "cell_type": "code",
   "execution_count": 22,
   "metadata": {},
   "outputs": [
    {
     "data": {
      "text/html": [
       "<div>\n",
       "<style scoped>\n",
       "    .dataframe tbody tr th:only-of-type {\n",
       "        vertical-align: middle;\n",
       "    }\n",
       "\n",
       "    .dataframe tbody tr th {\n",
       "        vertical-align: top;\n",
       "    }\n",
       "\n",
       "    .dataframe thead th {\n",
       "        text-align: right;\n",
       "    }\n",
       "</style>\n",
       "<table border=\"1\" class=\"dataframe\">\n",
       "  <thead>\n",
       "    <tr style=\"text-align: right;\">\n",
       "      <th></th>\n",
       "      <th>count</th>\n",
       "      <th>in %</th>\n",
       "    </tr>\n",
       "    <tr>\n",
       "      <th>Тип источника</th>\n",
       "      <th></th>\n",
       "      <th></th>\n",
       "    </tr>\n",
       "  </thead>\n",
       "  <tbody>\n",
       "    <tr>\n",
       "      <th>Блог и форумы</th>\n",
       "      <td>38</td>\n",
       "      <td>38 (9%)</td>\n",
       "    </tr>\n",
       "    <tr>\n",
       "      <th>Мессенджеры</th>\n",
       "      <td>66</td>\n",
       "      <td>66 (15%)</td>\n",
       "    </tr>\n",
       "    <tr>\n",
       "      <th>Отзывы</th>\n",
       "      <td>1</td>\n",
       "      <td>1 (0%)</td>\n",
       "    </tr>\n",
       "    <tr>\n",
       "      <th>СМИ</th>\n",
       "      <td>29</td>\n",
       "      <td>29 (7%)</td>\n",
       "    </tr>\n",
       "    <tr>\n",
       "      <th>Соц. сеть</th>\n",
       "      <td>300</td>\n",
       "      <td>300 (69%)</td>\n",
       "    </tr>\n",
       "  </tbody>\n",
       "</table>\n",
       "</div>"
      ],
      "text/plain": [
       "               count       in %\n",
       "Тип источника                  \n",
       "Блог и форумы     38    38 (9%)\n",
       "Мессенджеры       66   66 (15%)\n",
       "Отзывы             1     1 (0%)\n",
       "СМИ               29    29 (7%)\n",
       "Соц. сеть        300  300 (69%)"
      ]
     },
     "execution_count": 22,
     "metadata": {},
     "output_type": "execute_result"
    }
   ],
   "source": [
    "source_types = df.groupby('Тип источника') \\\n",
    "             .agg({'Тип источника': 'count'}) \\\n",
    "             .rename(columns={'Тип источника':'count'})\n",
    "source_types.at['Блог и форумы'] = source_types.loc['Блог'] + source_types.loc['Форум']\n",
    "try:\n",
    "    source_types = source_types.iloc[np.r_[1:5, 6:7]].sort_index().astype(int)\n",
    "except:\n",
    "    source_types = source_types.iloc[np.r_[1:4, 5:6]].sort_index().astype(int)\n",
    "in_perc = [(f'{source_types.loc[index][0].astype(int)} ({(source_types.loc[index][0] / source_types.sum()[0] * 100).round().astype(int)}%)') for index in source_types.index]\n",
    "source_types['in %'] = in_perc\n",
    "\n",
    "source_types"
   ]
  },
  {
   "cell_type": "markdown",
   "metadata": {},
   "source": [
    "# SLIDE 3 sourses"
   ]
  },
  {
   "cell_type": "code",
   "execution_count": 23,
   "metadata": {},
   "outputs": [
    {
     "data": {
      "text/html": [
       "<div>\n",
       "<style scoped>\n",
       "    .dataframe tbody tr th:only-of-type {\n",
       "        vertical-align: middle;\n",
       "    }\n",
       "\n",
       "    .dataframe tbody tr th {\n",
       "        vertical-align: top;\n",
       "    }\n",
       "\n",
       "    .dataframe thead th {\n",
       "        text-align: right;\n",
       "    }\n",
       "</style>\n",
       "<table border=\"1\" class=\"dataframe\">\n",
       "  <thead>\n",
       "    <tr style=\"text-align: right;\">\n",
       "      <th></th>\n",
       "      <th>scount</th>\n",
       "    </tr>\n",
       "  </thead>\n",
       "  <tbody>\n",
       "    <tr>\n",
       "      <th>vk.com</th>\n",
       "      <td>155</td>\n",
       "    </tr>\n",
       "    <tr>\n",
       "      <th>telegram.me</th>\n",
       "      <td>86</td>\n",
       "    </tr>\n",
       "    <tr>\n",
       "      <th>youtube.com</th>\n",
       "      <td>64</td>\n",
       "    </tr>\n",
       "    <tr>\n",
       "      <th>instagram.com</th>\n",
       "      <td>31</td>\n",
       "    </tr>\n",
       "    <tr>\n",
       "      <th>facebook.com</th>\n",
       "      <td>22</td>\n",
       "    </tr>\n",
       "    <tr>\n",
       "      <th>ok.ru</th>\n",
       "      <td>14</td>\n",
       "    </tr>\n",
       "    <tr>\n",
       "      <th>twitter.com</th>\n",
       "      <td>13</td>\n",
       "    </tr>\n",
       "    <tr>\n",
       "      <th>drive2.ru</th>\n",
       "      <td>7</td>\n",
       "    </tr>\n",
       "    <tr>\n",
       "      <th>zen.yandex.ru</th>\n",
       "      <td>5</td>\n",
       "    </tr>\n",
       "    <tr>\n",
       "      <th>findjob.ru</th>\n",
       "      <td>3</td>\n",
       "    </tr>\n",
       "    <tr>\n",
       "      <th>Unique source</th>\n",
       "      <td>41</td>\n",
       "    </tr>\n",
       "  </tbody>\n",
       "</table>\n",
       "</div>"
      ],
      "text/plain": [
       "               scount\n",
       "vk.com            155\n",
       "telegram.me        86\n",
       "youtube.com        64\n",
       "instagram.com      31\n",
       "facebook.com       22\n",
       "ok.ru              14\n",
       "twitter.com        13\n",
       "drive2.ru           7\n",
       "zen.yandex.ru       5\n",
       "findjob.ru          3\n",
       "Unique source      41"
      ]
     },
     "execution_count": 23,
     "metadata": {},
     "output_type": "execute_result"
    }
   ],
   "source": [
    "source = df.groupby('Источник') \\\n",
    "             .agg({'Источник': 'count'}) \\\n",
    "             .rename(columns={'Источник': 'scount'}) \\\n",
    "             .sort_values('scount', ascending=False)[:10]\n",
    "source = source \\\n",
    "        .append(pd.DataFrame([df['Источник'].nunique()], \n",
    "                             columns=['scount'])) \\\n",
    "        .rename({0: 'Unique source'})\n",
    "\n",
    "source"
   ]
  },
  {
   "cell_type": "markdown",
   "metadata": {},
   "source": [
    "# SLIDE 5 total tonality"
   ]
  },
  {
   "cell_type": "code",
   "execution_count": 24,
   "metadata": {},
   "outputs": [
    {
     "data": {
      "text/html": [
       "<div>\n",
       "<style scoped>\n",
       "    .dataframe tbody tr th:only-of-type {\n",
       "        vertical-align: middle;\n",
       "    }\n",
       "\n",
       "    .dataframe tbody tr th {\n",
       "        vertical-align: top;\n",
       "    }\n",
       "\n",
       "    .dataframe thead th {\n",
       "        text-align: right;\n",
       "    }\n",
       "</style>\n",
       "<table border=\"1\" class=\"dataframe\">\n",
       "  <thead>\n",
       "    <tr style=\"text-align: right;\">\n",
       "      <th></th>\n",
       "      <th>Итого</th>\n",
       "    </tr>\n",
       "  </thead>\n",
       "  <tbody>\n",
       "    <tr>\n",
       "      <th>Negative</th>\n",
       "      <td>6</td>\n",
       "    </tr>\n",
       "    <tr>\n",
       "      <th>Neutral</th>\n",
       "      <td>420</td>\n",
       "    </tr>\n",
       "    <tr>\n",
       "      <th>Positive</th>\n",
       "      <td>8</td>\n",
       "    </tr>\n",
       "    <tr>\n",
       "      <th>Total</th>\n",
       "      <td>434</td>\n",
       "    </tr>\n",
       "  </tbody>\n",
       "</table>\n",
       "</div>"
      ],
      "text/plain": [
       "          Итого\n",
       "Negative      6\n",
       "Neutral     420\n",
       "Positive      8\n",
       "Total       434"
      ]
     },
     "execution_count": 24,
     "metadata": {},
     "output_type": "execute_result"
    }
   ],
   "source": [
    "total_tonality = ysp.nsi(df)\n",
    "total_tonality.rename(columns={'Негативная': 'Negative', \n",
    "                    'Нейтральная': 'Neutral', \n",
    "                    'Позитивная': 'Positive', \n",
    "                    'Итого': 'Total',}, inplace=True)\n",
    "total_tonality = total_tonality.loc['Итого'].to_frame()[:-1].astype(int)\n",
    "total_tonality"
   ]
  },
  {
   "cell_type": "markdown",
   "metadata": {},
   "source": [
    "# SLIDE 5 tags tonality"
   ]
  },
  {
   "cell_type": "code",
   "execution_count": 25,
   "metadata": {},
   "outputs": [
    {
     "data": {
      "text/html": [
       "<div>\n",
       "<style scoped>\n",
       "    .dataframe tbody tr th:only-of-type {\n",
       "        vertical-align: middle;\n",
       "    }\n",
       "\n",
       "    .dataframe tbody tr th {\n",
       "        vertical-align: top;\n",
       "    }\n",
       "\n",
       "    .dataframe thead th {\n",
       "        text-align: right;\n",
       "    }\n",
       "</style>\n",
       "<table border=\"1\" class=\"dataframe\">\n",
       "  <thead>\n",
       "    <tr style=\"text-align: right;\">\n",
       "      <th></th>\n",
       "      <th>Negative</th>\n",
       "      <th>Neutral</th>\n",
       "      <th>Positive</th>\n",
       "      <th>Total</th>\n",
       "      <th>Negative %</th>\n",
       "      <th>Neutral %</th>\n",
       "      <th>Positive %</th>\n",
       "    </tr>\n",
       "  </thead>\n",
       "  <tbody>\n",
       "    <tr>\n",
       "      <th>Service</th>\n",
       "      <td>1</td>\n",
       "      <td>65</td>\n",
       "      <td>0</td>\n",
       "      <td>66</td>\n",
       "      <td>0.015</td>\n",
       "      <td>0.985</td>\n",
       "      <td>0.000</td>\n",
       "    </tr>\n",
       "    <tr>\n",
       "      <th>Package</th>\n",
       "      <td>1</td>\n",
       "      <td>34</td>\n",
       "      <td>0</td>\n",
       "      <td>35</td>\n",
       "      <td>0.029</td>\n",
       "      <td>0.971</td>\n",
       "      <td>0.000</td>\n",
       "    </tr>\n",
       "    <tr>\n",
       "      <th>Quality</th>\n",
       "      <td>2</td>\n",
       "      <td>30</td>\n",
       "      <td>2</td>\n",
       "      <td>34</td>\n",
       "      <td>0.059</td>\n",
       "      <td>0.882</td>\n",
       "      <td>0.059</td>\n",
       "    </tr>\n",
       "    <tr>\n",
       "      <th>Price</th>\n",
       "      <td>3</td>\n",
       "      <td>10</td>\n",
       "      <td>0</td>\n",
       "      <td>13</td>\n",
       "      <td>0.231</td>\n",
       "      <td>0.769</td>\n",
       "      <td>0.000</td>\n",
       "    </tr>\n",
       "    <tr>\n",
       "      <th>Comparison</th>\n",
       "      <td>1</td>\n",
       "      <td>10</td>\n",
       "      <td>1</td>\n",
       "      <td>12</td>\n",
       "      <td>0.083</td>\n",
       "      <td>0.833</td>\n",
       "      <td>0.083</td>\n",
       "    </tr>\n",
       "    <tr>\n",
       "      <th>Design</th>\n",
       "      <td>1</td>\n",
       "      <td>6</td>\n",
       "      <td>0</td>\n",
       "      <td>7</td>\n",
       "      <td>0.143</td>\n",
       "      <td>0.857</td>\n",
       "      <td>0.000</td>\n",
       "    </tr>\n",
       "    <tr>\n",
       "      <th>Brand</th>\n",
       "      <td>0</td>\n",
       "      <td>1</td>\n",
       "      <td>0</td>\n",
       "      <td>1</td>\n",
       "      <td>0.000</td>\n",
       "      <td>1.000</td>\n",
       "      <td>0.000</td>\n",
       "    </tr>\n",
       "    <tr>\n",
       "      <th>Rust</th>\n",
       "      <td>0</td>\n",
       "      <td>0</td>\n",
       "      <td>0</td>\n",
       "      <td>0</td>\n",
       "      <td>NaN</td>\n",
       "      <td>NaN</td>\n",
       "      <td>NaN</td>\n",
       "    </tr>\n",
       "    <tr>\n",
       "      <th>Suspension</th>\n",
       "      <td>0</td>\n",
       "      <td>0</td>\n",
       "      <td>0</td>\n",
       "      <td>0</td>\n",
       "      <td>NaN</td>\n",
       "      <td>NaN</td>\n",
       "      <td>NaN</td>\n",
       "    </tr>\n",
       "  </tbody>\n",
       "</table>\n",
       "</div>"
      ],
      "text/plain": [
       "            Negative  Neutral  Positive  Total  Negative %  Neutral %  \\\n",
       "Service            1       65         0     66       0.015      0.985   \n",
       "Package            1       34         0     35       0.029      0.971   \n",
       "Quality            2       30         2     34       0.059      0.882   \n",
       "Price              3       10         0     13       0.231      0.769   \n",
       "Comparison         1       10         1     12       0.083      0.833   \n",
       "Design             1        6         0      7       0.143      0.857   \n",
       "Brand              0        1         0      1       0.000      1.000   \n",
       "Rust               0        0         0      0         NaN        NaN   \n",
       "Suspension         0        0         0      0         NaN        NaN   \n",
       "\n",
       "            Positive %  \n",
       "Service          0.000  \n",
       "Package          0.000  \n",
       "Quality          0.059  \n",
       "Price            0.000  \n",
       "Comparison       0.083  \n",
       "Design           0.000  \n",
       "Brand            0.000  \n",
       "Rust               NaN  \n",
       "Suspension         NaN  "
      ]
     },
     "execution_count": 25,
     "metadata": {},
     "output_type": "execute_result"
    }
   ],
   "source": [
    "tags = pd.DataFrame()\n",
    "for col in df.columns:\n",
    "        if str(col).startswith('2_'):\n",
    "            neg = df[(df['Тональность'] == 'Негативная')][col].count()\n",
    "            neu = df[(df['Тональность'] == 'Нейтральная')][col].count()\n",
    "            pos = df[(df['Тональность'] == 'Позитивная')][col].count()\n",
    "            temp = pd.DataFrame({col: {'Negative': neg, \n",
    "                                        'Neutral': neu, \n",
    "                                        'Positive': pos, \n",
    "                                        'Total': sum([neg, neu, pos])}}).transpose()\n",
    "\n",
    "            tags = tags.append(temp).sort_values('Total', ascending=False).rename(index=del_tag_num).astype(int)\n",
    "tags = ysp.percent(tags,\n",
    "                   div_round=3, to_percent=False,\n",
    "                   calc_columns=tags.columns,\n",
    "                   total_types=False, \n",
    "                   percent_columns=[f'{col} %' for col in tags.columns])\n",
    "tags"
   ]
  },
  {
   "cell_type": "code",
   "execution_count": 23,
   "metadata": {},
   "outputs": [],
   "source": [
    "pos_links = ( \n",
    "    df[(df['Тип поста'] == 'Пост') & \n",
    "    (df['Тональность'] == 'Позитивная')]\n",
    "    .groupby('URL')\n",
    "    .agg({'Дата': 'count'})\n",
    "    .sort_values('Дата', ascending=False)\n",
    "    .reset_index()\n",
    "    )\n",
    "# pos_links[pos_links.URL.str.contains('youtube.com')]\n",
    "# pos_links[pos_links.URL.str.contains('zen.yandex.ru')]\n",
    "# pos_links[pos_links.URL.str.contains('auto.mail.ru')]"
   ]
  },
  {
   "cell_type": "code",
   "execution_count": 24,
   "metadata": {},
   "outputs": [
    {
     "data": {
      "text/html": [
       "<div>\n",
       "<style scoped>\n",
       "    .dataframe tbody tr th:only-of-type {\n",
       "        vertical-align: middle;\n",
       "    }\n",
       "\n",
       "    .dataframe tbody tr th {\n",
       "        vertical-align: top;\n",
       "    }\n",
       "\n",
       "    .dataframe thead th {\n",
       "        text-align: right;\n",
       "    }\n",
       "</style>\n",
       "<table border=\"1\" class=\"dataframe\">\n",
       "  <thead>\n",
       "    <tr style=\"text-align: right;\">\n",
       "      <th></th>\n",
       "      <th>URL</th>\n",
       "      <th>Дата</th>\n",
       "    </tr>\n",
       "  </thead>\n",
       "  <tbody>\n",
       "    <tr>\n",
       "      <th>81</th>\n",
       "      <td>https://zen.yandex.ru/media/id/5932b5028e557d3...</td>\n",
       "      <td>1</td>\n",
       "    </tr>\n",
       "    <tr>\n",
       "      <th>82</th>\n",
       "      <td>https://zen.yandex.ru/media/id/5c45963a3a08b80...</td>\n",
       "      <td>1</td>\n",
       "    </tr>\n",
       "    <tr>\n",
       "      <th>83</th>\n",
       "      <td>https://zen.yandex.ru/media/id/5e8b0557c69c707...</td>\n",
       "      <td>1</td>\n",
       "    </tr>\n",
       "    <tr>\n",
       "      <th>84</th>\n",
       "      <td>https://zen.yandex.ru/media/id/5f283cfb2d6c3a7...</td>\n",
       "      <td>1</td>\n",
       "    </tr>\n",
       "    <tr>\n",
       "      <th>85</th>\n",
       "      <td>https://zen.yandex.ru/media/id/5fc5ee1b125e451...</td>\n",
       "      <td>1</td>\n",
       "    </tr>\n",
       "    <tr>\n",
       "      <th>228</th>\n",
       "      <td>https://zen.yandex.ru/media/id/5ffadce91660cc5...</td>\n",
       "      <td>1</td>\n",
       "    </tr>\n",
       "  </tbody>\n",
       "</table>\n",
       "</div>"
      ],
      "text/plain": [
       "                                                   URL  Дата\n",
       "81   https://zen.yandex.ru/media/id/5932b5028e557d3...     1\n",
       "82   https://zen.yandex.ru/media/id/5c45963a3a08b80...     1\n",
       "83   https://zen.yandex.ru/media/id/5e8b0557c69c707...     1\n",
       "84   https://zen.yandex.ru/media/id/5f283cfb2d6c3a7...     1\n",
       "85   https://zen.yandex.ru/media/id/5fc5ee1b125e451...     1\n",
       "228  https://zen.yandex.ru/media/id/5ffadce91660cc5...     1"
      ]
     },
     "execution_count": 24,
     "metadata": {},
     "output_type": "execute_result"
    }
   ],
   "source": [
    "neu_links = ( \n",
    "    df[(df['Тип поста'] == 'Пост') & \n",
    "    (df['Тональность'] == 'Нейтральная')]\n",
    "    .groupby('URL')\n",
    "    .agg({'Дата': 'count'})\n",
    "    .sort_values('Дата', ascending=False)\n",
    "    .reset_index()\n",
    "    )\n",
    "# neu_links[neu_links.URL.str.contains('youtube.com')]\n",
    "neu_links[neu_links.URL.str.contains('zen.yandex.ru')]\n",
    "# neu_links[neu_links.URL.str.contains('auto.mail.ru')]"
   ]
  },
  {
   "cell_type": "code",
   "execution_count": 25,
   "metadata": {},
   "outputs": [
    {
     "data": {
      "text/html": [
       "<div>\n",
       "<style scoped>\n",
       "    .dataframe tbody tr th:only-of-type {\n",
       "        vertical-align: middle;\n",
       "    }\n",
       "\n",
       "    .dataframe tbody tr th {\n",
       "        vertical-align: top;\n",
       "    }\n",
       "\n",
       "    .dataframe thead th {\n",
       "        text-align: right;\n",
       "    }\n",
       "</style>\n",
       "<table border=\"1\" class=\"dataframe\">\n",
       "  <thead>\n",
       "    <tr style=\"text-align: right;\">\n",
       "      <th></th>\n",
       "      <th>URL</th>\n",
       "      <th>Дата</th>\n",
       "    </tr>\n",
       "  </thead>\n",
       "  <tbody>\n",
       "  </tbody>\n",
       "</table>\n",
       "</div>"
      ],
      "text/plain": [
       "Empty DataFrame\n",
       "Columns: [URL, Дата]\n",
       "Index: []"
      ]
     },
     "execution_count": 25,
     "metadata": {},
     "output_type": "execute_result"
    }
   ],
   "source": [
    "neg_links = ( \n",
    "    df[(df['Тип поста'] == 'Пост') & \n",
    "    (df['Тональность'] == 'Негативная')]\n",
    "    .groupby('URL')\n",
    "    .agg({'Дата': 'count'})\n",
    "    .sort_values('Дата', ascending=False)\n",
    "    .reset_index()\n",
    "    )   \n",
    "# neg_links[neg_links.URL.str.contains('youtube.com')]\n",
    "neg_links[neg_links.URL.str.contains('zen.yandex.ru')]\n",
    "# neg_links[neg_links.URL.str.contains('auto.mail.ru')]"
   ]
  },
  {
   "cell_type": "markdown",
   "metadata": {},
   "source": [
    "# UPLOAD DATA"
   ]
  },
  {
   "cell_type": "code",
   "execution_count": 26,
   "metadata": {},
   "outputs": [
    {
     "data": {
      "text/plain": [
       "[<Worksheet 'Data' id:1045000603>,\n",
       " <Worksheet 'links' id:532102312>,\n",
       " <Worksheet 'Charts' id:665156519>]"
      ]
     },
     "execution_count": 26,
     "metadata": {},
     "output_type": "execute_result"
    }
   ],
   "source": [
    "c = gspread_pandas.conf.get_config(conf_dir='C:\\My_files\\Programming\\work', file_name='google_secret.json')\n",
    "spread = Spread('geely_atlas_pro', config=c)\n",
    "spread.sheets"
   ]
  },
  {
   "cell_type": "code",
   "execution_count": 27,
   "metadata": {},
   "outputs": [],
   "source": [
    "# НЕ ЗАБЫВАТЬ двигать на нужные строки!!!\n",
    "# spread.df_to_sheet(weeks[['reviews%','news%']], sheet='Data', start='A23', headers=False)\n",
    "# spread.df_to_sheet(monthes[['reviews%','news%']], sheet='Data', start='E20', headers=False)\n",
    "# spread.df_to_sheet(count_week, sheet='Data', start='I23', headers=False)\n",
    "# spread.df_to_sheet(count_month, sheet='Data', start='L20', headers=False)"
   ]
  },
  {
   "cell_type": "code",
   "execution_count": 27,
   "metadata": {},
   "outputs": [],
   "source": [
    "spread.df_to_sheet(source_types, sheet='Data', start='O2')\n",
    "spread.df_to_sheet(source, sheet='Data', start='O9')"
   ]
  },
  {
   "cell_type": "code",
   "execution_count": 28,
   "metadata": {},
   "outputs": [],
   "source": [
    "spread.df_to_sheet(tags, sheet='Data', start='A2')\n",
    "spread.df_to_sheet(total_tonality, sheet='Data', start='J2')\n",
    "spread.df_to_sheet(main.transpose(), sheet='Data', start='I13')"
   ]
  }
 ],
 "metadata": {
  "interpreter": {
   "hash": "88a4427d4835578672a4c8e08849de303c971992ff34efd3f4513c4921ad8377"
  },
  "kernelspec": {
   "display_name": "Python 3.9.5 64-bit",
   "name": "python3"
  },
  "language_info": {
   "codemirror_mode": {
    "name": "ipython",
    "version": 3
   },
   "file_extension": ".py",
   "mimetype": "text/x-python",
   "name": "python",
   "nbconvert_exporter": "python",
   "pygments_lexer": "ipython3",
   "version": "3.9.5"
  },
  "orig_nbformat": 4
 },
 "nbformat": 4,
 "nbformat_minor": 2
}
