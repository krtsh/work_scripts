{
  "cells": [
    {
      "cell_type": "code",
      "execution_count": null,
      "metadata": {},
      "outputs": [],
      "source": [
        "!pip install gspread"
      ]
    },
    {
      "cell_type": "code",
      "execution_count": null,
      "metadata": {},
      "outputs": [],
      "source": [
        "!pip install gspread_pandas"
      ]
    },
    {
      "cell_type": "code",
      "execution_count": null,
      "metadata": {},
      "outputs": [],
      "source": [
        "!pip install beautifulsoup4"
      ]
    },
    {
      "cell_type": "code",
      "execution_count": null,
      "metadata": {},
      "outputs": [],
      "source": [
        "!pip install oauth2client"
      ]
    },
    {
      "cell_type": "code",
      "execution_count": null,
      "metadata": {},
      "outputs": [],
      "source": [
        "!pip install openpyxl"
      ]
    },
    {
      "cell_type": "code",
      "execution_count": 1,
      "metadata": {
        "id": "ONBhiaKYeQh0"
      },
      "outputs": [],
      "source": [
        "import pandas as pd\n",
        "import numpy as np\n",
        "from gspread_pandas import Spread, Client\n",
        "import gspread_pandas\n",
        "import gspread\n",
        "from bs4 import BeautifulSoup\n",
        "import os\n",
        "import sys\n",
        "import re\n",
        "from oauth2client.service_account import ServiceAccountCredentials"
      ]
    },
    {
      "cell_type": "code",
      "execution_count": 2,
      "metadata": {
        "id": "FrsZOX8ueTjc"
      },
      "outputs": [],
      "source": [
        "scope = ['https://spreadsheets.google.com/feeds', 'https://www.googleapis.com/auth/drive']\n",
        "credentials = ServiceAccountCredentials.from_json_keyfile_name('google_secret.json', scope)\n",
        "gc = gspread.authorize(credentials)"
      ]
    },
    {
      "cell_type": "code",
      "execution_count": 5,
      "metadata": {
        "id": "4LmW3zI_eVo0"
      },
      "outputs": [],
      "source": [
        "sys.path.append('./')\n",
        "c = gspread_pandas.conf.get_config(conf_dir='./', file_name='google_secret.json')"
      ]
    },
    {
      "cell_type": "code",
      "execution_count": 6,
      "metadata": {
        "id": "up5k9p_eeX49"
      },
      "outputs": [],
      "source": [
        "def text_processing(text):\n",
        "    return BeautifulSoup(text.replace('&#xA;', ' '), \"html.parser\") \\\n",
        "        .get_text(strip=False).replace('\\r', ' ').replace('\\n',' ')"
      ]
    },
    {
      "cell_type": "code",
      "execution_count": 7,
      "metadata": {
        "id": "6ctqgcTYeX7z"
      },
      "outputs": [],
      "source": [
        "def find_tags(tags, data, col_name):\n",
        "    data[col_name] = ''\n",
        "    for col in data.columns:\n",
        "        if col.startswith(tags):\n",
        "            data[col_name] += data[col].fillna(' ') + ','\n",
        "    data[col_name] = data[col_name].str.replace(' ,', '').str.strip(',')\n",
        "    # data[col_name] = data[col_name].apply(lambda x: np.nan if x == '' else x)"
      ]
    },
    {
      "cell_type": "code",
      "execution_count": 8,
      "metadata": {
        "colab": {
          "base_uri": "https://localhost:8080/"
        },
        "id": "bYZI-K-ceX_J",
        "outputId": "b72de786-f9eb-420d-916f-a52b714b0697"
      },
      "outputs": [
        {
          "data": {
            "text/plain": [
              "['YouScan_Mentions_Карусель_01022022-01022022_c16a6.xlsx',\n",
              " 'YouScan_Mentions_Перекр_сток_01022022_01022022_925a8.xlsx',\n",
              " 'YouScan_Mentions_Пятерочка_01022022-01022022_9a6b4.xlsx',\n",
              " 'YouScan_Mentions_х5_01022022-01022022_25977.xlsx']"
            ]
          },
          "execution_count": 8,
          "metadata": {},
          "output_type": "execute_result"
        }
      ],
      "source": [
        "for file in os.walk(os.getcwd()):\n",
        "    data_files = [f for f in file[2] if f.startswith('YouScan_Mentions_')]\n",
        "    break\n",
        "data_files"
      ]
    },
    {
      "cell_type": "code",
      "execution_count": 10,
      "metadata": {
        "colab": {
          "base_uri": "https://localhost:8080/",
          "height": 554
        },
        "id": "1fJRGRTteYBR",
        "outputId": "04ddfe78-cbb2-4d28-845e-0d0ccf17e4be"
      },
      "outputs": [
        {
          "name": "stdout",
          "output_type": "stream",
          "text": [
            "Upload YouScan_Mentions_Карусель_01022022-01022022_c16a6.xlsx\n",
            "Upload YouScan_Mentions_Перекр_сток_01022022_01022022_925a8.xlsx\n",
            "Upload YouScan_Mentions_Пятерочка_01022022-01022022_9a6b4.xlsx\n",
            "Upload YouScan_Mentions_х5_01022022-01022022_25977.xlsx\n"
          ]
        }
      ],
      "source": [
        "for data_file in data_files:\n",
        "    in_df = pd.read_excel(data_file, engine='openpyxl')\n",
        "    need_tags = tuple(col for col in in_df.columns if re.match('\\d', col, flags=0) or re.match('z', col, flags=0))\n",
        "    \n",
        "    in_df['Сумма всех реакций'] = (in_df['Сумма всех реакций'].fillna(0) +\n",
        "                                in_df['Репосты'].fillna(0) +\n",
        "                                in_df['Комментарии'].fillna(0))\n",
        "    \n",
        "    in_df['Дайджест текста'] = (in_df['Дайджест текста'].fillna('')\n",
        "                                            .apply(text_processing))\n",
        "    in_df['Автор'] = (in_df['Автор'].fillna('')\n",
        "                      .apply(text_processing))\n",
        "    in_df['Место публикации'] = (in_df['Место публикации'].fillna('')\n",
        "                                             .apply(text_processing))\n",
        "    \n",
        "    find_tags(need_tags, in_df, 'all_tags')\n",
        "    \n",
        "    out_df = in_df[['URL', 'Дайджест текста', 'Источник', 'Подписчики', \n",
        "                'Город', 'Регион', 'Автор', 'Место публикации', 'Профиль', \n",
        "                'Подписчики места публикации', 'Профиль места публикации', \n",
        "                'Тональность', 'Тип поста', 'Сумма всех реакций', 'Дата', 'all_tags']]\n",
        "    \n",
        "    frame_columns = ['tag_' + str(x) for x in range(out_df.all_tags.apply(lambda x: len(x.split(','))).max())]\n",
        "    tags_df = pd.DataFrame(out_df.all_tags.str.split(',').to_list(), columns=frame_columns)\n",
        "    out_df = pd.concat([out_df, tags_df], axis=1)\n",
        "    \n",
        "    out_df[['Подписчики', \n",
        "            'Подписчики места публикации', \n",
        "            'Сумма всех реакций']] = out_df[['Подписчики', \n",
        "                                             'Подписчики места публикации', \n",
        "                                             'Сумма всех реакций']].fillna(0).astype(int)\n",
        "    \n",
        "    if 'х5' in data_file:\n",
        "        sht = gc.open(\"Копия X5 Рабочий файл\")\n",
        "        sht.values_clear(\"Data!A1:X20000\")\n",
        "        spread = Spread('Копия X5 Рабочий файл', config=c)\n",
        "        spread.df_to_sheet(out_df, sheet='Data', start='A1', index=False)\n",
        "        print(f'Upload {data_file}')\n",
        "    elif 'Карусель' in data_file:\n",
        "        sht = gc.open(\"Копия Карусель Рабочий файл\")\n",
        "        sht.values_clear(\"Data!A1:X20000\")\n",
        "        spread = Spread('Копия Карусель Рабочий файл', config=c)\n",
        "        spread.df_to_sheet(out_df, sheet='Data', start='A1', index=False)\n",
        "        print(f'Upload {data_file}')\n",
        "    elif 'Перекр_сток' in data_file:\n",
        "        sht = gc.open(\"Копия Перекресток Рабочий файл\")\n",
        "        sht.values_clear(\"Data!A1:X20000\")\n",
        "        spread = Spread('Копия Перекресток Рабочий файл', config=c)\n",
        "        spread.df_to_sheet(out_df, sheet='Data', start='A1', index=False)\n",
        "        print(f'Upload {data_file}')\n",
        "    elif 'Пятерочка' in data_file:\n",
        "        sht = gc.open(\"Копия Пятерочка Рабочий файл\")\n",
        "        sht.values_clear(\"Data!A1:X20000\")\n",
        "        spread = Spread('Копия Пятерочка Рабочий файл', config=c)\n",
        "        spread.df_to_sheet(out_df, sheet='Data', start='A1', index=False)\n",
        "        print(f'Upload {data_file}')\n",
        "    elif 'Чижик' in data_file:\n",
        "        sht = gc.open(\"Копия Чижик Рабочий файл\")\n",
        "        sht.values_clear(\"Data!A1:X20000\")\n",
        "        spread = Spread('Копия Чижик Рабочий файл', config=c)\n",
        "        spread.df_to_sheet(out_df, sheet='Data', start='A1', index=False)\n",
        "        print(f'Upload {data_file}')\n",
        "    else:\n",
        "        print('ERROR!!!')"
      ]
    }
  ],
  "metadata": {
    "colab": {
      "collapsed_sections": [],
      "name": "x5_daily_processing.ipynb",
      "provenance": []
    },
    "kernelspec": {
      "display_name": "Python 3",
      "name": "python3"
    },
    "language_info": {
      "codemirror_mode": {
        "name": "ipython",
        "version": 3
      },
      "file_extension": ".py",
      "mimetype": "text/x-python",
      "name": "python",
      "nbconvert_exporter": "python",
      "pygments_lexer": "ipython3",
      "version": "3.9.5"
    }
  },
  "nbformat": 4,
  "nbformat_minor": 0
}
